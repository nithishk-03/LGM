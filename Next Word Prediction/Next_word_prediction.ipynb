{
  "nbformat": 4,
  "nbformat_minor": 0,
  "metadata": {
    "colab": {
      "provenance": [],
      "gpuType": "V28"
    },
    "kernelspec": {
      "name": "python3",
      "display_name": "Python 3"
    },
    "language_info": {
      "name": "python"
    },
    "accelerator": "TPU"
  },
  "cells": [
    {
      "cell_type": "code",
      "execution_count": 1,
      "metadata": {
        "id": "A58JgvoIMIzC"
      },
      "outputs": [],
      "source": [
        "import numpy as np\n",
        "from nltk.tokenize import RegexpTokenizer\n",
        "from keras.models import Sequential, load_model\n",
        "from keras.layers import LSTM, Dense, Activation\n",
        "from keras.optimizers import RMSprop\n",
        "import matplotlib.pyplot as plt\n",
        "import pickle\n",
        "import heapq"
      ]
    },
    {
      "cell_type": "code",
      "source": [
        "path='/content/next word.txt'\n",
        "text=open(path).read().lower()\n",
        "print('size of text:',len(text))"
      ],
      "metadata": {
        "colab": {
          "base_uri": "https://localhost:8080/"
        },
        "id": "w6xTxiM-MNiq",
        "outputId": "8607c0b4-1196-4c55-a585-90476ef81e90"
      },
      "execution_count": 3,
      "outputs": [
        {
          "output_type": "stream",
          "name": "stdout",
          "text": [
            "size of text: 581888\n"
          ]
        }
      ]
    },
    {
      "cell_type": "code",
      "source": [
        "tokenizer=RegexpTokenizer(r\"\\w+\")\n",
        "words=tokenizer.tokenize(text)"
      ],
      "metadata": {
        "id": "ib-RMb3mMxo1"
      },
      "execution_count": 4,
      "outputs": []
    },
    {
      "cell_type": "code",
      "source": [
        "unique_words = np.unique(words)"
      ],
      "metadata": {
        "id": "oImbqMl5NEyf"
      },
      "execution_count": 5,
      "outputs": []
    },
    {
      "cell_type": "code",
      "source": [
        "unique_word_index ={}\n",
        "for index,word in enumerate(unique_words):\n",
        "  unique_word_index[word]=index"
      ],
      "metadata": {
        "id": "BACvfE9xNGDZ"
      },
      "execution_count": 6,
      "outputs": []
    },
    {
      "cell_type": "code",
      "source": [
        "word_len = 5\n",
        "prev_words = []\n",
        "next_words = []"
      ],
      "metadata": {
        "id": "xf6kEGM3fdiz"
      },
      "execution_count": 7,
      "outputs": []
    },
    {
      "cell_type": "code",
      "source": [
        "for i in range(len(words)-word_len):\n",
        "  prev_words.append(words[i:i+word_len])\n",
        "  next_words.append(words[i+word_len])\n",
        "print(prev_words[1])\n",
        "print(next_words[1])"
      ],
      "metadata": {
        "colab": {
          "base_uri": "https://localhost:8080/"
        },
        "id": "-XoBdG5zNR7u",
        "outputId": "d1adad27-db36-4f7d-d850-fa9d32fbd1dc"
      },
      "execution_count": 8,
      "outputs": [
        {
          "output_type": "stream",
          "name": "stdout",
          "text": [
            "['gutenberg', 's', 'the', 'adventures', 'of']\n",
            "sherlock\n"
          ]
        }
      ]
    },
    {
      "cell_type": "code",
      "source": [
        "X = np.zeros((len(prev_words), word_len, len(unique_words)), dtype=bool)\n",
        "Y = np.zeros((len(next_words), len(unique_words)), dtype=bool)\n",
        "for i, each_words in enumerate(prev_words):\n",
        "    for j, each_word in enumerate(each_words):\n",
        "        X[i, j, unique_word_index[each_word]] = 1\n",
        "    Y[i, unique_word_index[next_words[i]]] = 1"
      ],
      "metadata": {
        "id": "EjYpQOOzNiZr"
      },
      "execution_count": 9,
      "outputs": []
    },
    {
      "cell_type": "code",
      "source": [
        "print(X[0][0])"
      ],
      "metadata": {
        "colab": {
          "base_uri": "https://localhost:8080/"
        },
        "id": "CzrkQoJWjFMr",
        "outputId": "040ec79c-1597-45ab-9762-227295b960df"
      },
      "execution_count": 10,
      "outputs": [
        {
          "output_type": "stream",
          "name": "stdout",
          "text": [
            "[False False False ... False False False]\n"
          ]
        }
      ]
    },
    {
      "cell_type": "code",
      "source": [
        "model = Sequential()\n",
        "model.add(LSTM(128, input_shape=(word_len, len(unique_words))))\n",
        "model.add(Dense(len(unique_words)))\n",
        "model.add(Activation('softmax'))"
      ],
      "metadata": {
        "id": "bbvUo29djQ5d"
      },
      "execution_count": 11,
      "outputs": []
    },
    {
      "cell_type": "code",
      "source": [
        "optimizer = RMSprop(learning_rate=0.01) # Use learning_rate instead of lr\n",
        "model.compile(loss='categorical_crossentropy', optimizer=optimizer, metrics=['accuracy'])\n",
        "history = model.fit(X, Y, validation_split=0.05, batch_size=128, epochs=30, shuffle=True).history"
      ],
      "metadata": {
        "id": "jHYnvwyijTiy",
        "colab": {
          "base_uri": "https://localhost:8080/"
        },
        "outputId": "040d8136-a038-4730-fd49-b7bd8745c775"
      },
      "execution_count": 12,
      "outputs": [
        {
          "output_type": "stream",
          "name": "stdout",
          "text": [
            "Epoch 1/30\n",
            "811/811 [==============================] - 36s 42ms/step - loss: 6.3420 - accuracy: 0.0710 - val_loss: 7.1061 - val_accuracy: 0.0806\n",
            "Epoch 2/30\n",
            "811/811 [==============================] - 33s 41ms/step - loss: 5.8028 - accuracy: 0.1109 - val_loss: 6.7783 - val_accuracy: 0.0934\n",
            "Epoch 3/30\n",
            "811/811 [==============================] - 33s 41ms/step - loss: 5.5045 - accuracy: 0.1331 - val_loss: 6.6514 - val_accuracy: 0.1029\n",
            "Epoch 4/30\n",
            "811/811 [==============================] - 33s 41ms/step - loss: 5.2543 - accuracy: 0.1520 - val_loss: 6.6429 - val_accuracy: 0.0987\n",
            "Epoch 5/30\n",
            "811/811 [==============================] - 34s 42ms/step - loss: 5.0224 - accuracy: 0.1700 - val_loss: 6.7005 - val_accuracy: 0.1031\n",
            "Epoch 6/30\n",
            "811/811 [==============================] - 34s 41ms/step - loss: 4.7792 - accuracy: 0.1936 - val_loss: 6.6886 - val_accuracy: 0.0981\n",
            "Epoch 7/30\n",
            "811/811 [==============================] - 33s 41ms/step - loss: 4.5115 - accuracy: 0.2233 - val_loss: 6.7470 - val_accuracy: 0.0994\n",
            "Epoch 8/30\n",
            "811/811 [==============================] - 33s 41ms/step - loss: 4.2253 - accuracy: 0.2580 - val_loss: 6.8461 - val_accuracy: 0.0932\n",
            "Epoch 9/30\n",
            "811/811 [==============================] - 33s 40ms/step - loss: 3.9199 - accuracy: 0.2991 - val_loss: 7.0596 - val_accuracy: 0.0901\n",
            "Epoch 10/30\n",
            "811/811 [==============================] - 33s 40ms/step - loss: 3.6231 - accuracy: 0.3422 - val_loss: 7.3182 - val_accuracy: 0.0839\n",
            "Epoch 11/30\n",
            "811/811 [==============================] - 33s 41ms/step - loss: 3.3251 - accuracy: 0.3876 - val_loss: 7.5322 - val_accuracy: 0.0763\n",
            "Epoch 12/30\n",
            "811/811 [==============================] - 33s 40ms/step - loss: 3.0462 - accuracy: 0.4310 - val_loss: 7.7593 - val_accuracy: 0.0756\n",
            "Epoch 13/30\n",
            "811/811 [==============================] - 33s 40ms/step - loss: 2.7882 - accuracy: 0.4752 - val_loss: 8.0566 - val_accuracy: 0.0743\n",
            "Epoch 14/30\n",
            "811/811 [==============================] - 33s 40ms/step - loss: 2.5481 - accuracy: 0.5163 - val_loss: 8.3544 - val_accuracy: 0.0703\n",
            "Epoch 15/30\n",
            "811/811 [==============================] - 32s 40ms/step - loss: 2.3341 - accuracy: 0.5557 - val_loss: 8.5653 - val_accuracy: 0.0743\n",
            "Epoch 16/30\n",
            "811/811 [==============================] - 33s 41ms/step - loss: 2.1354 - accuracy: 0.5919 - val_loss: 8.8224 - val_accuracy: 0.0736\n",
            "Epoch 17/30\n",
            "811/811 [==============================] - 33s 41ms/step - loss: 1.9578 - accuracy: 0.6273 - val_loss: 9.0698 - val_accuracy: 0.0716\n",
            "Epoch 18/30\n",
            "811/811 [==============================] - 33s 40ms/step - loss: 1.7960 - accuracy: 0.6566 - val_loss: 9.0657 - val_accuracy: 0.0709\n",
            "Epoch 19/30\n",
            "811/811 [==============================] - 32s 40ms/step - loss: 1.6489 - accuracy: 0.6860 - val_loss: 9.4929 - val_accuracy: 0.0672\n",
            "Epoch 20/30\n",
            "811/811 [==============================] - 33s 40ms/step - loss: 1.5127 - accuracy: 0.7125 - val_loss: 9.6997 - val_accuracy: 0.0643\n",
            "Epoch 21/30\n",
            "811/811 [==============================] - 32s 40ms/step - loss: 1.3900 - accuracy: 0.7377 - val_loss: 9.9590 - val_accuracy: 0.0665\n",
            "Epoch 22/30\n",
            "811/811 [==============================] - 32s 40ms/step - loss: 1.2739 - accuracy: 0.7616 - val_loss: 10.1581 - val_accuracy: 0.0644\n",
            "Epoch 23/30\n",
            "811/811 [==============================] - 33s 40ms/step - loss: 1.1707 - accuracy: 0.7826 - val_loss: 10.2939 - val_accuracy: 0.0637\n",
            "Epoch 24/30\n",
            "811/811 [==============================] - 33s 40ms/step - loss: 1.0726 - accuracy: 0.8030 - val_loss: 10.4002 - val_accuracy: 0.0672\n",
            "Epoch 25/30\n",
            "811/811 [==============================] - 33s 40ms/step - loss: 0.9773 - accuracy: 0.8224 - val_loss: 10.6793 - val_accuracy: 0.0611\n",
            "Epoch 26/30\n",
            "811/811 [==============================] - 33s 41ms/step - loss: 0.8943 - accuracy: 0.8384 - val_loss: 10.8410 - val_accuracy: 0.0599\n",
            "Epoch 27/30\n",
            "811/811 [==============================] - 33s 41ms/step - loss: 0.8126 - accuracy: 0.8545 - val_loss: 10.8741 - val_accuracy: 0.0630\n",
            "Epoch 28/30\n",
            "811/811 [==============================] - 33s 41ms/step - loss: 0.7368 - accuracy: 0.8688 - val_loss: 11.1298 - val_accuracy: 0.0608\n",
            "Epoch 29/30\n",
            "811/811 [==============================] - 33s 40ms/step - loss: 0.6654 - accuracy: 0.8821 - val_loss: 11.3167 - val_accuracy: 0.0611\n",
            "Epoch 30/30\n",
            "811/811 [==============================] - 33s 41ms/step - loss: 0.6013 - accuracy: 0.8927 - val_loss: 11.3337 - val_accuracy: 0.0632\n"
          ]
        }
      ]
    },
    {
      "cell_type": "code",
      "source": [
        "model.save('keras_next_word_model.h5')\n",
        "pickle.dump(history, open(\"history.p\", \"wb\"))\n",
        "model = load_model('keras_next_word_model.h5')\n",
        "history = pickle.load(open(\"history.p\", \"rb\"))"
      ],
      "metadata": {
        "id": "BsMEMORVjYoy",
        "colab": {
          "base_uri": "https://localhost:8080/"
        },
        "outputId": "578eaf53-49f1-42ae-8c9c-18c1782467f1"
      },
      "execution_count": 13,
      "outputs": [
        {
          "output_type": "stream",
          "name": "stderr",
          "text": [
            "/usr/local/lib/python3.10/dist-packages/keras/src/engine/training.py:3103: UserWarning: You are saving your model as an HDF5 file via `model.save()`. This file format is considered legacy. We recommend using instead the native Keras format, e.g. `model.save('my_model.keras')`.\n",
            "  saving_api.save_model(\n"
          ]
        }
      ]
    },
    {
      "cell_type": "code",
      "source": [
        "plt.plot(history['accuracy'])\n",
        "plt.plot(history['val_accuracy'])\n",
        "plt.title('model accuracy')\n",
        "plt.ylabel('accuracy')\n",
        "plt.xlabel('epoch')\n",
        "plt.legend(['train', 'test'], loc='upper left')\n"
      ],
      "metadata": {
        "colab": {
          "base_uri": "https://localhost:8080/",
          "height": 489
        },
        "id": "K6J2STzAoyGE",
        "outputId": "db9691ce-99a7-420c-8791-3ca653cca48a"
      },
      "execution_count": 14,
      "outputs": [
        {
          "output_type": "execute_result",
          "data": {
            "text/plain": [
              "<matplotlib.legend.Legend at 0x7c875879e380>"
            ]
          },
          "metadata": {},
          "execution_count": 14
        },
        {
          "output_type": "display_data",
          "data": {
            "text/plain": [
              "<Figure size 640x480 with 1 Axes>"
            ],
            "image/png": "[encoded data removed]"
          },
          "metadata": {}
        }
      ]
    },
    {
      "cell_type": "code",
      "source": [
        "plt.plot(history['loss'])\n",
        "plt.plot(history['val_loss'])\n",
        "plt.title('model loss')\n",
        "plt.ylabel('loss')\n",
        "plt.xlabel('epoch')\n",
        "plt.legend(['train', 'test'], loc='upper left')"
      ],
      "metadata": {
        "colab": {
          "base_uri": "https://localhost:8080/",
          "height": 489
        },
        "id": "f2cY7LZFo05C",
        "outputId": "c8dd800b-e3b9-405f-bdbf-89f990319183"
      },
      "execution_count": 15,
      "outputs": [
        {
          "output_type": "execute_result",
          "data": {
            "text/plain": [
              "<matplotlib.legend.Legend at 0x7c8758763130>"
            ]
          },
          "metadata": {},
          "execution_count": 15
        },
        {
          "output_type": "display_data",
          "data": {
            "text/plain": [
              "<Figure size 640x480 with 1 Axes>"
            ],
            "image/png": "[encoded data removed]"
          },
          "metadata": {}
        }
      ]
    },
    {
      "cell_type": "code",
      "source": [
        "def prepare_input(text):\n",
        "    x = np.zeros((1, word_len, len(unique_words)))\n",
        "    for t, word in enumerate(text.split()):\n",
        "        print(word)"
      ],
      "metadata": {
        "id": "R6l_O3YWpnbp"
      },
      "execution_count": 16,
      "outputs": []
    },
    {
      "cell_type": "code",
      "source": [
        "prepare_input(\"This is an example of input for our LSTM\".lower())"
      ],
      "metadata": {
        "colab": {
          "base_uri": "https://localhost:8080/"
        },
        "id": "4epGKE4WuoQW",
        "outputId": "209da660-1b2d-4c6e-cee2-5f71aee105c1"
      },
      "execution_count": 17,
      "outputs": [
        {
          "output_type": "stream",
          "name": "stdout",
          "text": [
            "this\n",
            "is\n",
            "an\n",
            "example\n",
            "of\n",
            "input\n",
            "for\n",
            "our\n",
            "lstm\n"
          ]
        }
      ]
    },
    {
      "cell_type": "code",
      "source": [
        "def prepare_input(text, sequence_length=5):\n",
        "    x = np.zeros((1, sequence_length, len(unique_words)))\n",
        "    words = text.split()\n",
        "    for t, word in enumerate(words[-sequence_length:]):\n",
        "        if word in unique_word_index:\n",
        "            x[0, t, unique_word_index[word]] = 1.0\n",
        "    return x"
      ],
      "metadata": {
        "id": "d-U_z1_Gup89"
      },
      "execution_count": 18,
      "outputs": []
    },
    {
      "cell_type": "code",
      "source": [
        "prepare_input(\"It is not a lack\".lower())"
      ],
      "metadata": {
        "colab": {
          "base_uri": "https://localhost:8080/"
        },
        "id": "6YQePqkAxHzK",
        "outputId": "6ca82935-a393-4585-fd8e-fac78da43549"
      },
      "execution_count": 19,
      "outputs": [
        {
          "output_type": "execute_result",
          "data": {
            "text/plain": [
              "array([[[0., 0., 0., ..., 0., 0., 0.],\n",
              "        [0., 0., 0., ..., 0., 0., 0.],\n",
              "        [0., 0., 0., ..., 0., 0., 0.],\n",
              "        [0., 0., 0., ..., 0., 0., 0.],\n",
              "        [0., 0., 0., ..., 0., 0., 0.]]])"
            ]
          },
          "metadata": {},
          "execution_count": 19
        }
      ]
    },
    {
      "cell_type": "code",
      "source": [
        "def sample(preds, n=3):\n",
        "    preds = np.asarray(preds).astype('float64')\n",
        "    preds = np.exp(preds)\n",
        "    preds = preds / np.sum(preds)  # Normalizing\n",
        "    return np.random.choice(len(preds), n, p=preds)"
      ],
      "metadata": {
        "id": "gKZaHNJaxMYO"
      },
      "execution_count": 20,
      "outputs": []
    },
    {
      "cell_type": "code",
      "source": [
        "def predict_completions(text, n=3):\n",
        "    x = prepare_input(text)\n",
        "    preds = model.predict(x, verbose=0)[0]\n",
        "    next_indices = sample(preds, n)\n",
        "    next_words = [unique_words[idx] for idx in next_indices]\n",
        "    return next_words\n"
      ],
      "metadata": {
        "id": "3bdSGcxaxfFV"
      },
      "execution_count": 21,
      "outputs": []
    },
    {
      "cell_type": "code",
      "source": [
        "def predict_completions(text, n=3):\n",
        "    x = prepare_input(text)\n",
        "    preds = model.predict(x, verbose=0)[0]\n",
        "    next_indices = sample(preds, n)\n",
        "    next_words = [unique_words[idx] for idx in next_indices]\n",
        "    return next_words"
      ],
      "metadata": {
        "id": "eq-TNEZjxgcO"
      },
      "execution_count": 22,
      "outputs": []
    },
    {
      "cell_type": "code",
      "source": [
        "inuput = [\n",
        "    \"It is not a lack of love, but a lack of friendship that makes unhappy marriages.\",\n",
        "    \"That which does not kill us makes us stronger.\",\n",
        "    \"I'm not upset that you lied to me, I'm upset that from now on I can't believe you.\",\n",
        "    \"And those who were seen dancing were thought to be insane by those who could not hear the music.\",\n",
        "    \"It is hard enough to remember my opinions, without also remembering my reasons for them!\"\n",
        "]"
      ],
      "metadata": {
        "id": "4Kg0uRGdxh8i"
      },
      "execution_count": 23,
      "outputs": []
    },
    {
      "cell_type": "code",
      "source": [
        "for sentence in inuput:\n",
        "    seq = sentence.lower()\n",
        "    print(seq)\n",
        "    print(predict_completions(seq, 5))\n",
        "    print()"
      ],
      "metadata": {
        "colab": {
          "base_uri": "https://localhost:8080/"
        },
        "id": "woWEOtGRz6ze",
        "outputId": "0106406f-dead-492d-e17c-4631aa08480d"
      },
      "execution_count": 26,
      "outputs": [
        {
          "output_type": "stream",
          "name": "stdout",
          "text": [
            "it is not a lack of love, but a lack of friendship that makes unhappy marriages.\n",
            "['finder', 'afford', 'distinct', 'printed', 'required']\n",
            "\n",
            "that which does not kill us makes us stronger.\n",
            "['terminated', 'glowing', 'consuming', 'hers', 'comes']\n",
            "\n",
            "i'm not upset that you lied to me, i'm upset that from now on i can't believe you.\n",
            "['detailed', 'herself', 'college', 'campaigner', 'fenchurch']\n",
            "\n",
            "and those who were seen dancing were thought to be insane by those who could not hear the music.\n",
            "['unmarried', 'steam', 'neutral', 'leader', 'lapse']\n",
            "\n",
            "it is hard enough to remember my opinions, without also remembering my reasons for them!\n",
            "['trepoff', 'snarled', 'effect', 'advertise', 'abuse']\n",
            "\n"
          ]
        }
      ]
    },
    {
      "cell_type": "code",
      "source": [],
      "metadata": {
        "id": "xrx3TVQ-xk3V"
      },
      "execution_count": null,
      "outputs": []
    }
  ]
}